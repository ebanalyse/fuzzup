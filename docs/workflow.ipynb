{
 "metadata": {
  "language_info": {
   "codemirror_mode": {
    "name": "ipython",
    "version": 3
   },
   "file_extension": ".py",
   "mimetype": "text/x-python",
   "name": "python",
   "nbconvert_exporter": "python",
   "pygments_lexer": "ipython3",
   "version": "3.8.6-final"
  },
  "orig_nbformat": 2,
  "kernelspec": {
   "name": "python3",
   "display_name": "Python 3",
   "language": "python"
  }
 },
 "nbformat": 4,
 "nbformat_minor": 2,
 "cells": [
  {
   "source": [
    "# Workflow"
   ],
   "cell_type": "markdown",
   "metadata": {}
  },
  {
   "source": [
    "Define strings that we will attempt to cluster."
   ],
   "cell_type": "markdown",
   "metadata": {}
  },
  {
   "source": [
    "strings = ['donald trump', 'joe biden', 'mark esper', 'george floyds', 'christopher c . miller', 'jim mattis', 'nancy pelosi', 'trumps', 'trump', 'miller']\n"
   ],
   "cell_type": "code",
   "metadata": {},
   "execution_count": 8,
   "outputs": []
  },
  {
   "source": [
    "Compute matrix with mutual fuzzy ratios for strings"
   ],
   "cell_type": "markdown",
   "metadata": {}
  },
  {
   "cell_type": "code",
   "execution_count": 12,
   "metadata": {},
   "outputs": [
    {
     "output_type": "execute_result",
     "data": {
      "text/plain": [
       "strings                 christopher c . miller  donald trump  george floyds  \\\n",
       "strings                                                                       \n",
       "christopher c . miller                     100            18             17   \n",
       "donald trump                                12           100             16   \n",
       "george floyds                               11             8            100   \n",
       "jim mattis                                  12            18             17   \n",
       "joe biden                                   13            19             36   \n",
       "mark esper                                  31            27             17   \n",
       "miller                                      43            22             21   \n",
       "nancy pelosi                                12            25             32   \n",
       "trump                                       15            59             11   \n",
       "trumps                                      14            56             21   \n",
       "\n",
       "strings                 jim mattis  joe biden  mark esper  miller  \\\n",
       "strings                                                             \n",
       "christopher c . miller          25         32          31      43   \n",
       "donald trump                     9         19          18      11   \n",
       "george floyds                   17         36          26      11   \n",
       "jim mattis                     100         32          30      25   \n",
       "joe biden                       21        100          21      27   \n",
       "mark esper                      30         21         100      38   \n",
       "miller                          12         13          38     100   \n",
       "nancy pelosi                     9         19          36      11   \n",
       "trump                           13          0          27      18   \n",
       "trumps                          25          0          25      17   \n",
       "\n",
       "strings                 nancy pelosi  trump  trumps  \n",
       "strings                                              \n",
       "christopher c . miller            18     22      21  \n",
       "donald trump                      33     59      56  \n",
       "george floyds                     32     11      21  \n",
       "jim mattis                        18     13      25  \n",
       "joe biden                         10      0       0  \n",
       "mark esper                        36     27      25  \n",
       "miller                            11     18      17  \n",
       "nancy pelosi                     100     12      22  \n",
       "trump                             12    100      91  \n",
       "trumps                            22     91     100  "
      ],
      "text/html": "<div>\n<style scoped>\n    .dataframe tbody tr th:only-of-type {\n        vertical-align: middle;\n    }\n\n    .dataframe tbody tr th {\n        vertical-align: top;\n    }\n\n    .dataframe thead th {\n        text-align: right;\n    }\n</style>\n<table border=\"1\" class=\"dataframe\">\n  <thead>\n    <tr style=\"text-align: right;\">\n      <th>strings</th>\n      <th>christopher c . miller</th>\n      <th>donald trump</th>\n      <th>george floyds</th>\n      <th>jim mattis</th>\n      <th>joe biden</th>\n      <th>mark esper</th>\n      <th>miller</th>\n      <th>nancy pelosi</th>\n      <th>trump</th>\n      <th>trumps</th>\n    </tr>\n    <tr>\n      <th>strings</th>\n      <th></th>\n      <th></th>\n      <th></th>\n      <th></th>\n      <th></th>\n      <th></th>\n      <th></th>\n      <th></th>\n      <th></th>\n      <th></th>\n    </tr>\n  </thead>\n  <tbody>\n    <tr>\n      <th>christopher c . miller</th>\n      <td>100</td>\n      <td>18</td>\n      <td>17</td>\n      <td>25</td>\n      <td>32</td>\n      <td>31</td>\n      <td>43</td>\n      <td>18</td>\n      <td>22</td>\n      <td>21</td>\n    </tr>\n    <tr>\n      <th>donald trump</th>\n      <td>12</td>\n      <td>100</td>\n      <td>16</td>\n      <td>9</td>\n      <td>19</td>\n      <td>18</td>\n      <td>11</td>\n      <td>33</td>\n      <td>59</td>\n      <td>56</td>\n    </tr>\n    <tr>\n      <th>george floyds</th>\n      <td>11</td>\n      <td>8</td>\n      <td>100</td>\n      <td>17</td>\n      <td>36</td>\n      <td>26</td>\n      <td>11</td>\n      <td>32</td>\n      <td>11</td>\n      <td>21</td>\n    </tr>\n    <tr>\n      <th>jim mattis</th>\n      <td>12</td>\n      <td>18</td>\n      <td>17</td>\n      <td>100</td>\n      <td>32</td>\n      <td>30</td>\n      <td>25</td>\n      <td>18</td>\n      <td>13</td>\n      <td>25</td>\n    </tr>\n    <tr>\n      <th>joe biden</th>\n      <td>13</td>\n      <td>19</td>\n      <td>36</td>\n      <td>21</td>\n      <td>100</td>\n      <td>21</td>\n      <td>27</td>\n      <td>10</td>\n      <td>0</td>\n      <td>0</td>\n    </tr>\n    <tr>\n      <th>mark esper</th>\n      <td>31</td>\n      <td>27</td>\n      <td>17</td>\n      <td>30</td>\n      <td>21</td>\n      <td>100</td>\n      <td>38</td>\n      <td>36</td>\n      <td>27</td>\n      <td>25</td>\n    </tr>\n    <tr>\n      <th>miller</th>\n      <td>43</td>\n      <td>22</td>\n      <td>21</td>\n      <td>12</td>\n      <td>13</td>\n      <td>38</td>\n      <td>100</td>\n      <td>11</td>\n      <td>18</td>\n      <td>17</td>\n    </tr>\n    <tr>\n      <th>nancy pelosi</th>\n      <td>12</td>\n      <td>25</td>\n      <td>32</td>\n      <td>9</td>\n      <td>19</td>\n      <td>36</td>\n      <td>11</td>\n      <td>100</td>\n      <td>12</td>\n      <td>22</td>\n    </tr>\n    <tr>\n      <th>trump</th>\n      <td>15</td>\n      <td>59</td>\n      <td>11</td>\n      <td>13</td>\n      <td>0</td>\n      <td>27</td>\n      <td>18</td>\n      <td>12</td>\n      <td>100</td>\n      <td>91</td>\n    </tr>\n    <tr>\n      <th>trumps</th>\n      <td>14</td>\n      <td>56</td>\n      <td>21</td>\n      <td>25</td>\n      <td>0</td>\n      <td>25</td>\n      <td>17</td>\n      <td>22</td>\n      <td>91</td>\n      <td>100</td>\n    </tr>\n  </tbody>\n</table>\n</div>"
     },
     "metadata": {},
     "execution_count": 12
    }
   ],
   "source": [
    "from fuzzup.gear import compute_fuzzy_matrix, compute_clusters, cluster_and_rank_strings\n",
    "fuzzy_matrix = compute_fuzzy_matrix(strings)\n",
    "fuzzy_matrix"
   ]
  },
  {
   "source": [
    "Compute clusters from fuzzy ratios"
   ],
   "cell_type": "markdown",
   "metadata": {}
  },
  {
   "cell_type": "code",
   "execution_count": 13,
   "metadata": {},
   "outputs": [
    {
     "output_type": "execute_result",
     "data": {
      "text/plain": [
       "[['donald trump', 'trump', 'trumps'],\n",
       " ['christopher c . miller', 'miller'],\n",
       " ['mark esper'],\n",
       " ['george floyds'],\n",
       " ['joe biden'],\n",
       " ['jim mattis'],\n",
       " ['nancy pelosi']]"
      ]
     },
     "metadata": {},
     "execution_count": 13
    }
   ],
   "source": [
    "compute_clusters(fuzzy_matrix)"
   ]
  },
  {
   "source": [
    "Cluster strings and rank clusters in one go"
   ],
   "cell_type": "markdown",
   "metadata": {}
  },
  {
   "cell_type": "code",
   "execution_count": null,
   "metadata": {},
   "outputs": [],
   "source": [
    "cluster_and_rank_strings(strings)"
   ]
  }
 ]
}